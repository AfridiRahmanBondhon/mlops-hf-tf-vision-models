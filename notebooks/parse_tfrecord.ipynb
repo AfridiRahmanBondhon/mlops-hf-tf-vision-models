{
 "cells": [
  {
   "cell_type": "code",
   "execution_count": 1,
   "metadata": {},
   "outputs": [
    {
     "name": "stderr",
     "output_type": "stream",
     "text": [
      "2022-09-26 04:55:06.084487: W tensorflow/stream_executor/platform/default/dso_loader.cc:64] Could not load dynamic library 'libcudart.so.11.0'; dlerror: libcudart.so.11.0: cannot open shared object file: No such file or directory\n",
      "2022-09-26 04:55:06.084538: I tensorflow/stream_executor/cuda/cudart_stub.cc:29] Ignore above cudart dlerror if you do not have a GPU set up on your machine.\n"
     ]
    }
   ],
   "source": [
    "import tensorflow as tf"
   ]
  },
  {
   "cell_type": "code",
   "execution_count": 11,
   "metadata": {},
   "outputs": [],
   "source": [
    "GCS_PATH_FULL_RESOUTION = \"gs://beans-fullres/tfrecords\"\n",
    "GCS_PATH_LOW_RESOLUTION = \"gs://beans-lowres/tfrecords\""
   ]
  },
  {
   "cell_type": "code",
   "execution_count": 3,
   "metadata": {},
   "outputs": [],
   "source": [
    "BATCH_SIZE = 4\n",
    "AUTO = tf.data.AUTOTUNE"
   ]
  },
  {
   "cell_type": "code",
   "execution_count": 6,
   "metadata": {},
   "outputs": [],
   "source": [
    "def parse_tfr(proto):\n",
    "    feature_description = {\n",
    "        \"image\": tf.io.VarLenFeature(tf.float32),\n",
    "        \"image_shape\": tf.io.VarLenFeature(tf.int64),\n",
    "        \"label\": tf.io.VarLenFeature(tf.int64),\n",
    "    }\n",
    "    rec = tf.io.parse_single_example(proto, feature_description)\n",
    "    image_shape = tf.sparse.to_dense(rec[\"image_shape\"])\n",
    "    image = tf.reshape(tf.sparse.to_dense(rec[\"image\"]), image_shape)\n",
    "    label = tf.sparse.to_dense(rec[\"label\"])\n",
    "    return {\"pixel_values\": image, \"label\": label}\n",
    "\n",
    "\n",
    "def prepare_dataset(GCS_PATH=GCS_PATH_FULL_RESOUTION, split=\"train\", batch_size=BATCH_SIZE):\n",
    "    if split not in [\"train\", \"val\"]:\n",
    "        raise ValueError(\n",
    "            \"Invalid split provided. Supports splits are: `train` and `val`.\"\n",
    "        )\n",
    "\n",
    "    dataset = tf.data.TFRecordDataset(\n",
    "        [filename for filename in tf.io.gfile.glob(f\"{GCS_PATH}/{split}-*\")],\n",
    "        num_parallel_reads=AUTO,\n",
    "    ).map(parse_tfr, num_parallel_calls=AUTO)\n",
    "\n",
    "    if split == \"train\":\n",
    "        dataset = dataset.shuffle(batch_size * 2)\n",
    "\n",
    "    dataset = dataset.batch(batch_size)\n",
    "    dataset = dataset.prefetch(AUTO)\n",
    "    return dataset"
   ]
  },
  {
   "cell_type": "markdown",
   "metadata": {},
   "source": [
    "## Full Resolution Dataset"
   ]
  },
  {
   "cell_type": "code",
   "execution_count": 7,
   "metadata": {},
   "outputs": [
    {
     "name": "stderr",
     "output_type": "stream",
     "text": [
      "2022-09-26 04:58:13.399342: W tensorflow/stream_executor/platform/default/dso_loader.cc:64] Could not load dynamic library 'libcuda.so.1'; dlerror: libcuda.so.1: cannot open shared object file: No such file or directory\n",
      "2022-09-26 04:58:13.399401: W tensorflow/stream_executor/cuda/cuda_driver.cc:269] failed call to cuInit: UNKNOWN ERROR (303)\n",
      "2022-09-26 04:58:13.399437: I tensorflow/stream_executor/cuda/cuda_diagnostics.cc:156] kernel driver does not appear to be running on this host (codespaces-78e142): /proc/driver/nvidia/version does not exist\n",
      "2022-09-26 04:58:13.400225: I tensorflow/core/platform/cpu_feature_guard.cc:193] This TensorFlow binary is optimized with oneAPI Deep Neural Network Library (oneDNN) to use the following CPU instructions in performance-critical operations:  AVX2 AVX512F FMA\n",
      "To enable them in other operations, rebuild TensorFlow with the appropriate compiler flags.\n"
     ]
    }
   ],
   "source": [
    "train_dataset = prepare_dataset()\n",
    "val_dataset = prepare_dataset(split=\"val\")"
   ]
  },
  {
   "cell_type": "code",
   "execution_count": 8,
   "metadata": {},
   "outputs": [
    {
     "name": "stdout",
     "output_type": "stream",
     "text": [
      "(4, 500, 500, 3) (4, 1)\n"
     ]
    }
   ],
   "source": [
    "for batch in train_dataset.take(1):\n",
    "    print(batch[\"pixel_values\"].shape, batch[\"label\"].shape)"
   ]
  },
  {
   "cell_type": "code",
   "execution_count": 9,
   "metadata": {},
   "outputs": [
    {
     "name": "stdout",
     "output_type": "stream",
     "text": [
      "(4, 500, 500, 3) (4, 1)\n"
     ]
    }
   ],
   "source": [
    "for batch in val_dataset.take(1):\n",
    "    print(batch[\"pixel_values\"].shape, batch[\"label\"].shape)"
   ]
  },
  {
   "cell_type": "markdown",
   "metadata": {},
   "source": [
    "## Low Resolution Dataset"
   ]
  },
  {
   "cell_type": "code",
   "execution_count": 12,
   "metadata": {},
   "outputs": [],
   "source": [
    "train_dataset = prepare_dataset(GCS_PATH_LOW_RESOLUTION)\n",
    "val_dataset = prepare_dataset(GCS_PATH_LOW_RESOLUTION, split=\"val\")"
   ]
  },
  {
   "cell_type": "code",
   "execution_count": 13,
   "metadata": {},
   "outputs": [
    {
     "name": "stdout",
     "output_type": "stream",
     "text": [
      "(4, 256, 256, 3) (4, 1)\n"
     ]
    }
   ],
   "source": [
    "for batch in train_dataset.take(1):\n",
    "    print(batch[\"pixel_values\"].shape, batch[\"label\"].shape)"
   ]
  },
  {
   "cell_type": "code",
   "execution_count": 14,
   "metadata": {},
   "outputs": [
    {
     "name": "stdout",
     "output_type": "stream",
     "text": [
      "(4, 256, 256, 3) (4, 1)\n"
     ]
    }
   ],
   "source": [
    "for batch in val_dataset.take(1):\n",
    "    print(batch[\"pixel_values\"].shape, batch[\"label\"].shape)"
   ]
  },
  {
   "cell_type": "code",
   "execution_count": null,
   "metadata": {},
   "outputs": [],
   "source": []
  }
 ],
 "metadata": {
  "kernelspec": {
   "display_name": "Python 3.8.13 ('tfx')",
   "language": "python",
   "name": "python3"
  },
  "language_info": {
   "codemirror_mode": {
    "name": "ipython",
    "version": 3
   },
   "file_extension": ".py",
   "mimetype": "text/x-python",
   "name": "python",
   "nbconvert_exporter": "python",
   "pygments_lexer": "ipython3",
   "version": "3.8.13"
  },
  "orig_nbformat": 4,
  "vscode": {
   "interpreter": {
    "hash": "9707615a70fe419aafb4f3d43d719c18bf8e3fff440c597b227e245d64be09b6"
   }
  }
 },
 "nbformat": 4,
 "nbformat_minor": 2
}
